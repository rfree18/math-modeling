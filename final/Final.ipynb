{
 "cells": [
  {
   "cell_type": "markdown",
   "metadata": {},
   "source": [
    "# Final Project: Methods for Population Growth Projections"
   ]
  },
  {
   "cell_type": "markdown",
   "metadata": {},
   "source": [
    "## Logistic Growth"
   ]
  },
  {
   "cell_type": "markdown",
   "metadata": {},
   "source": [
    "Below is the standard logistic growth model, defined as $P(t) = \\frac{K N_0 e^{\\gamma t}}{K + N_0 (e^{\\gamma t} - 1)}$"
   ]
  },
  {
   "cell_type": "code",
   "execution_count": 2,
   "metadata": {},
   "outputs": [
    {
     "data": {
      "text/html": [
       "<div>\n",
       "<style>\n",
       "    .dataframe thead tr:only-child th {\n",
       "        text-align: right;\n",
       "    }\n",
       "\n",
       "    .dataframe thead th {\n",
       "        text-align: left;\n",
       "    }\n",
       "\n",
       "    .dataframe tbody tr th {\n",
       "        vertical-align: top;\n",
       "    }\n",
       "</style>\n",
       "<table border=\"1\" class=\"dataframe\">\n",
       "  <thead>\n",
       "    <tr style=\"text-align: right;\">\n",
       "      <th></th>\n",
       "      <th>1910_POPULATION</th>\n",
       "      <th>1920_POPULATION</th>\n",
       "      <th>1930_POPULATION</th>\n",
       "      <th>1940_POPULATION</th>\n",
       "      <th>1950_POPULATION</th>\n",
       "      <th>1960_POPULATION</th>\n",
       "      <th>1970_POPULATION</th>\n",
       "      <th>1980_POPULATION</th>\n",
       "      <th>1990_POPULATION</th>\n",
       "      <th>2000_POPULATION</th>\n",
       "      <th>2010_POPULATION</th>\n",
       "    </tr>\n",
       "    <tr>\n",
       "      <th>STATE_OR_REGION</th>\n",
       "      <th></th>\n",
       "      <th></th>\n",
       "      <th></th>\n",
       "      <th></th>\n",
       "      <th></th>\n",
       "      <th></th>\n",
       "      <th></th>\n",
       "      <th></th>\n",
       "      <th></th>\n",
       "      <th></th>\n",
       "      <th></th>\n",
       "    </tr>\n",
       "  </thead>\n",
       "  <tbody>\n",
       "    <tr>\n",
       "      <th>United States</th>\n",
       "      <td>92228531</td>\n",
       "      <td>106021568</td>\n",
       "      <td>123202660</td>\n",
       "      <td>132165129</td>\n",
       "      <td>151325798</td>\n",
       "      <td>179323175</td>\n",
       "      <td>203211926</td>\n",
       "      <td>226545805</td>\n",
       "      <td>248709873</td>\n",
       "      <td>281421906</td>\n",
       "      <td>308745538</td>\n",
       "    </tr>\n",
       "  </tbody>\n",
       "</table>\n",
       "</div>"
      ],
      "text/plain": [
       "                 1910_POPULATION  1920_POPULATION  1930_POPULATION  \\\n",
       "STATE_OR_REGION                                                      \n",
       "United States           92228531        106021568        123202660   \n",
       "\n",
       "                 1940_POPULATION  1950_POPULATION  1960_POPULATION  \\\n",
       "STATE_OR_REGION                                                      \n",
       "United States          132165129        151325798        179323175   \n",
       "\n",
       "                 1970_POPULATION  1980_POPULATION  1990_POPULATION  \\\n",
       "STATE_OR_REGION                                                      \n",
       "United States          203211926        226545805        248709873   \n",
       "\n",
       "                 2000_POPULATION  2010_POPULATION  \n",
       "STATE_OR_REGION                                    \n",
       "United States          281421906        308745538  "
      ]
     },
     "execution_count": 2,
     "metadata": {},
     "output_type": "execute_result"
    }
   ],
   "source": [
    "import pandas as pd\n",
    "import numpy as np\n",
    "from scipy import integrate\n",
    "from scipy import optimize\n",
    "import matplotlib.pyplot as plt\n",
    "\n",
    "pop_change_df = pd.read_csv('data/pop_change.csv', index_col=0, header=0, skiprows=[], thousands=',')\n",
    "pop_change_df.apply(pd.to_numeric)"
   ]
  },
  {
   "cell_type": "code",
   "execution_count": 2,
   "metadata": {
    "collapsed": true
   },
   "outputs": [],
   "source": [
    "country_total = pop_change_df.as_matrix()[0]"
   ]
  },
  {
   "cell_type": "code",
   "execution_count": 3,
   "metadata": {
    "collapsed": true
   },
   "outputs": [],
   "source": [
    "times = np.arange(1910,2020,10)"
   ]
  },
  {
   "cell_type": "code",
   "execution_count": 4,
   "metadata": {},
   "outputs": [
    {
     "data": {
      "image/png": "[encoded data removed]",
      "text/plain": [
       "<matplotlib.figure.Figure at 0x1043bb4a8>"
      ]
     },
     "metadata": {},
     "output_type": "display_data"
    }
   ],
   "source": [
    "dN = (country_total[2:]-country_total[:-2])/(times[2:]-times[:-2])\n",
    "P = dN / country_total[1:-1]\n",
    "X = np.asarray([np.ones(9), country_total[1:-1]]).transpose()\n",
    "Y = np.asarray(P)\n",
    "alpha = np.linalg.lstsq(X,Y)[0]\n",
    "gamma = alpha[0]\n",
    "K = (-gamma) / alpha[1]\n",
    "    \n",
    "# compute the model estimate for the population development\n",
    "t_estimate = np.arange(1910, 2130, 5)\n",
    "N0=country_total[0]\n",
    "t_model=t_estimate-1910\n",
    "N=K*(N0/K)*np.exp(gamma*t_model)/(1+(N0/\n",
    "K)*(np.exp(gamma*t_model)-1))\n",
    "plt.figure()\n",
    "plt.plot(times, country_total, 's')\n",
    "plt.plot(t_estimate, N, 'k')\n",
    "plt.xlabel('Year')\n",
    "plt.ylabel('population')\n",
    "plt.title('United States')\n",
    "plt.show()"
   ]
  },
  {
   "cell_type": "markdown",
   "metadata": {},
   "source": [
    "## Modified Lotka-Volterra"
   ]
  },
  {
   "cell_type": "code",
   "execution_count": 40,
   "metadata": {},
   "outputs": [
    {
     "data": {
      "text/html": [
       "<div>\n",
       "<style>\n",
       "    .dataframe thead tr:only-child th {\n",
       "        text-align: right;\n",
       "    }\n",
       "\n",
       "    .dataframe thead th {\n",
       "        text-align: left;\n",
       "    }\n",
       "\n",
       "    .dataframe tbody tr th {\n",
       "        vertical-align: top;\n",
       "    }\n",
       "</style>\n",
       "<table border=\"1\" class=\"dataframe\">\n",
       "  <thead>\n",
       "    <tr style=\"text-align: right;\">\n",
       "      <th></th>\n",
       "      <th>1960</th>\n",
       "      <th>1961</th>\n",
       "      <th>1962</th>\n",
       "      <th>1963</th>\n",
       "      <th>1964</th>\n",
       "      <th>1965</th>\n",
       "      <th>1966</th>\n",
       "      <th>1967</th>\n",
       "      <th>1968</th>\n",
       "      <th>1969</th>\n",
       "      <th>...</th>\n",
       "      <th>2007</th>\n",
       "      <th>2008</th>\n",
       "      <th>2009</th>\n",
       "      <th>2010</th>\n",
       "      <th>2011</th>\n",
       "      <th>2012</th>\n",
       "      <th>2013</th>\n",
       "      <th>2014</th>\n",
       "      <th>2015</th>\n",
       "      <th>2016</th>\n",
       "    </tr>\n",
       "    <tr>\n",
       "      <th>Country Name</th>\n",
       "      <th></th>\n",
       "      <th></th>\n",
       "      <th></th>\n",
       "      <th></th>\n",
       "      <th></th>\n",
       "      <th></th>\n",
       "      <th></th>\n",
       "      <th></th>\n",
       "      <th></th>\n",
       "      <th></th>\n",
       "      <th></th>\n",
       "      <th></th>\n",
       "      <th></th>\n",
       "      <th></th>\n",
       "      <th></th>\n",
       "      <th></th>\n",
       "      <th></th>\n",
       "      <th></th>\n",
       "      <th></th>\n",
       "      <th></th>\n",
       "      <th></th>\n",
       "    </tr>\n",
       "  </thead>\n",
       "  <tbody>\n",
       "    <tr>\n",
       "      <th>World</th>\n",
       "      <td>1.370000e+12</td>\n",
       "      <td>1.420000e+12</td>\n",
       "      <td>1.530000e+12</td>\n",
       "      <td>1.640000e+12</td>\n",
       "      <td>1.800000e+12</td>\n",
       "      <td>1.960000e+12</td>\n",
       "      <td>2.130000e+12</td>\n",
       "      <td>2.260000e+12</td>\n",
       "      <td>2.440000e+12</td>\n",
       "      <td>2.690000e+12</td>\n",
       "      <td>...</td>\n",
       "      <td>5.790000e+13</td>\n",
       "      <td>6.350000e+13</td>\n",
       "      <td>6.020000e+13</td>\n",
       "      <td>6.600000e+13</td>\n",
       "      <td>7.330000e+13</td>\n",
       "      <td>7.490000e+13</td>\n",
       "      <td>7.700000e+13</td>\n",
       "      <td>7.910000e+13</td>\n",
       "      <td>7.480000e+13</td>\n",
       "      <td>7.590000e+13</td>\n",
       "    </tr>\n",
       "    <tr>\n",
       "      <th>United States</th>\n",
       "      <td>5.430000e+11</td>\n",
       "      <td>5.630000e+11</td>\n",
       "      <td>6.050000e+11</td>\n",
       "      <td>6.390000e+11</td>\n",
       "      <td>6.860000e+11</td>\n",
       "      <td>7.440000e+11</td>\n",
       "      <td>8.150000e+11</td>\n",
       "      <td>8.620000e+11</td>\n",
       "      <td>9.430000e+11</td>\n",
       "      <td>1.020000e+12</td>\n",
       "      <td>...</td>\n",
       "      <td>1.450000e+13</td>\n",
       "      <td>1.470000e+13</td>\n",
       "      <td>1.440000e+13</td>\n",
       "      <td>1.500000e+13</td>\n",
       "      <td>1.550000e+13</td>\n",
       "      <td>1.620000e+13</td>\n",
       "      <td>1.670000e+13</td>\n",
       "      <td>1.740000e+13</td>\n",
       "      <td>1.810000e+13</td>\n",
       "      <td>1.860000e+13</td>\n",
       "    </tr>\n",
       "    <tr>\n",
       "      <th>South Africa</th>\n",
       "      <td>7.575248e+09</td>\n",
       "      <td>7.972841e+09</td>\n",
       "      <td>8.497830e+09</td>\n",
       "      <td>9.423212e+09</td>\n",
       "      <td>1.037379e+10</td>\n",
       "      <td>1.133417e+10</td>\n",
       "      <td>1.235475e+10</td>\n",
       "      <td>1.377712e+10</td>\n",
       "      <td>1.489430e+10</td>\n",
       "      <td>1.678006e+10</td>\n",
       "      <td>...</td>\n",
       "      <td>2.990340e+11</td>\n",
       "      <td>2.871000e+11</td>\n",
       "      <td>2.972170e+11</td>\n",
       "      <td>3.752980e+11</td>\n",
       "      <td>4.168780e+11</td>\n",
       "      <td>3.963330e+11</td>\n",
       "      <td>3.668100e+11</td>\n",
       "      <td>3.511190e+11</td>\n",
       "      <td>3.176110e+11</td>\n",
       "      <td>2.954560e+11</td>\n",
       "    </tr>\n",
       "  </tbody>\n",
       "</table>\n",
       "<p>3 rows × 57 columns</p>\n",
       "</div>"
      ],
      "text/plain": [
       "                       1960          1961          1962          1963  \\\n",
       "Country Name                                                            \n",
       "World          1.370000e+12  1.420000e+12  1.530000e+12  1.640000e+12   \n",
       "United States  5.430000e+11  5.630000e+11  6.050000e+11  6.390000e+11   \n",
       "South Africa   7.575248e+09  7.972841e+09  8.497830e+09  9.423212e+09   \n",
       "\n",
       "                       1964          1965          1966          1967  \\\n",
       "Country Name                                                            \n",
       "World          1.800000e+12  1.960000e+12  2.130000e+12  2.260000e+12   \n",
       "United States  6.860000e+11  7.440000e+11  8.150000e+11  8.620000e+11   \n",
       "South Africa   1.037379e+10  1.133417e+10  1.235475e+10  1.377712e+10   \n",
       "\n",
       "                       1968          1969      ...               2007  \\\n",
       "Country Name                                   ...                      \n",
       "World          2.440000e+12  2.690000e+12      ...       5.790000e+13   \n",
       "United States  9.430000e+11  1.020000e+12      ...       1.450000e+13   \n",
       "South Africa   1.489430e+10  1.678006e+10      ...       2.990340e+11   \n",
       "\n",
       "                       2008          2009          2010          2011  \\\n",
       "Country Name                                                            \n",
       "World          6.350000e+13  6.020000e+13  6.600000e+13  7.330000e+13   \n",
       "United States  1.470000e+13  1.440000e+13  1.500000e+13  1.550000e+13   \n",
       "South Africa   2.871000e+11  2.972170e+11  3.752980e+11  4.168780e+11   \n",
       "\n",
       "                       2012          2013          2014          2015  \\\n",
       "Country Name                                                            \n",
       "World          7.490000e+13  7.700000e+13  7.910000e+13  7.480000e+13   \n",
       "United States  1.620000e+13  1.670000e+13  1.740000e+13  1.810000e+13   \n",
       "South Africa   3.963330e+11  3.668100e+11  3.511190e+11  3.176110e+11   \n",
       "\n",
       "                       2016  \n",
       "Country Name                 \n",
       "World          7.590000e+13  \n",
       "United States  1.860000e+13  \n",
       "South Africa   2.954560e+11  \n",
       "\n",
       "[3 rows x 57 columns]"
      ]
     },
     "execution_count": 40,
     "metadata": {},
     "output_type": "execute_result"
    }
   ],
   "source": [
    "gdp_data = pd.read_csv('data/gdp_new.csv', index_col=0, header=0, sep=',', skiprows=[], thousands=',')\n",
    "gdp_data.apply(pd.to_numeric)"
   ]
  },
  {
   "cell_type": "code",
   "execution_count": 41,
   "metadata": {},
   "outputs": [
    {
     "data": {
      "text/html": [
       "<div>\n",
       "<style>\n",
       "    .dataframe thead tr:only-child th {\n",
       "        text-align: right;\n",
       "    }\n",
       "\n",
       "    .dataframe thead th {\n",
       "        text-align: left;\n",
       "    }\n",
       "\n",
       "    .dataframe tbody tr th {\n",
       "        vertical-align: top;\n",
       "    }\n",
       "</style>\n",
       "<table border=\"1\" class=\"dataframe\">\n",
       "  <thead>\n",
       "    <tr style=\"text-align: right;\">\n",
       "      <th></th>\n",
       "      <th>1960</th>\n",
       "      <th>1961</th>\n",
       "      <th>1962</th>\n",
       "      <th>1963</th>\n",
       "      <th>1964</th>\n",
       "      <th>1965</th>\n",
       "      <th>1966</th>\n",
       "      <th>1967</th>\n",
       "      <th>1968</th>\n",
       "      <th>1969</th>\n",
       "      <th>...</th>\n",
       "      <th>2007</th>\n",
       "      <th>2008</th>\n",
       "      <th>2009</th>\n",
       "      <th>2010</th>\n",
       "      <th>2011</th>\n",
       "      <th>2012</th>\n",
       "      <th>2013</th>\n",
       "      <th>2014</th>\n",
       "      <th>2015</th>\n",
       "      <th>2016</th>\n",
       "    </tr>\n",
       "    <tr>\n",
       "      <th>Country Name</th>\n",
       "      <th></th>\n",
       "      <th></th>\n",
       "      <th></th>\n",
       "      <th></th>\n",
       "      <th></th>\n",
       "      <th></th>\n",
       "      <th></th>\n",
       "      <th></th>\n",
       "      <th></th>\n",
       "      <th></th>\n",
       "      <th></th>\n",
       "      <th></th>\n",
       "      <th></th>\n",
       "      <th></th>\n",
       "      <th></th>\n",
       "      <th></th>\n",
       "      <th></th>\n",
       "      <th></th>\n",
       "      <th></th>\n",
       "      <th></th>\n",
       "      <th></th>\n",
       "    </tr>\n",
       "  </thead>\n",
       "  <tbody>\n",
       "    <tr>\n",
       "      <th>World</th>\n",
       "      <td>3032160395</td>\n",
       "      <td>3073368588</td>\n",
       "      <td>3126509808</td>\n",
       "      <td>3191786431</td>\n",
       "      <td>3257459749</td>\n",
       "      <td>3324545317</td>\n",
       "      <td>3394783656</td>\n",
       "      <td>3464689184</td>\n",
       "      <td>3535355320</td>\n",
       "      <td>3610178790</td>\n",
       "      <td>...</td>\n",
       "      <td>6683228246</td>\n",
       "      <td>6766302523</td>\n",
       "      <td>6849573246</td>\n",
       "      <td>6932880892</td>\n",
       "      <td>7014998805</td>\n",
       "      <td>7099548883</td>\n",
       "      <td>7185078354</td>\n",
       "      <td>7271228018</td>\n",
       "      <td>7357369754</td>\n",
       "      <td>7444027227</td>\n",
       "    </tr>\n",
       "    <tr>\n",
       "      <th>United States</th>\n",
       "      <td>180671000</td>\n",
       "      <td>183691000</td>\n",
       "      <td>186538000</td>\n",
       "      <td>189242000</td>\n",
       "      <td>191889000</td>\n",
       "      <td>194303000</td>\n",
       "      <td>196560000</td>\n",
       "      <td>198712000</td>\n",
       "      <td>200706000</td>\n",
       "      <td>202677000</td>\n",
       "      <td>...</td>\n",
       "      <td>301231207</td>\n",
       "      <td>304093966</td>\n",
       "      <td>306771529</td>\n",
       "      <td>309348193</td>\n",
       "      <td>311663358</td>\n",
       "      <td>313998379</td>\n",
       "      <td>316204908</td>\n",
       "      <td>318563456</td>\n",
       "      <td>320896618</td>\n",
       "      <td>323127513</td>\n",
       "    </tr>\n",
       "    <tr>\n",
       "      <th>South Africa</th>\n",
       "      <td>17456855</td>\n",
       "      <td>17920673</td>\n",
       "      <td>18401608</td>\n",
       "      <td>18899275</td>\n",
       "      <td>19412975</td>\n",
       "      <td>19942303</td>\n",
       "      <td>20486439</td>\n",
       "      <td>21045785</td>\n",
       "      <td>21622590</td>\n",
       "      <td>22219897</td>\n",
       "      <td>...</td>\n",
       "      <td>49887181</td>\n",
       "      <td>50412129</td>\n",
       "      <td>50970818</td>\n",
       "      <td>51584663</td>\n",
       "      <td>52263516</td>\n",
       "      <td>52998213</td>\n",
       "      <td>53767396</td>\n",
       "      <td>54539571</td>\n",
       "      <td>55291225</td>\n",
       "      <td>56015473</td>\n",
       "    </tr>\n",
       "  </tbody>\n",
       "</table>\n",
       "<p>3 rows × 57 columns</p>\n",
       "</div>"
      ],
      "text/plain": [
       "                     1960        1961        1962        1963        1964  \\\n",
       "Country Name                                                                \n",
       "World          3032160395  3073368588  3126509808  3191786431  3257459749   \n",
       "United States   180671000   183691000   186538000   189242000   191889000   \n",
       "South Africa     17456855    17920673    18401608    18899275    19412975   \n",
       "\n",
       "                     1965        1966        1967        1968        1969  \\\n",
       "Country Name                                                                \n",
       "World          3324545317  3394783656  3464689184  3535355320  3610178790   \n",
       "United States   194303000   196560000   198712000   200706000   202677000   \n",
       "South Africa     19942303    20486439    21045785    21622590    22219897   \n",
       "\n",
       "                  ...            2007        2008        2009        2010  \\\n",
       "Country Name      ...                                                       \n",
       "World             ...      6683228246  6766302523  6849573246  6932880892   \n",
       "United States     ...       301231207   304093966   306771529   309348193   \n",
       "South Africa      ...        49887181    50412129    50970818    51584663   \n",
       "\n",
       "                     2011        2012        2013        2014        2015  \\\n",
       "Country Name                                                                \n",
       "World          7014998805  7099548883  7185078354  7271228018  7357369754   \n",
       "United States   311663358   313998379   316204908   318563456   320896618   \n",
       "South Africa     52263516    52998213    53767396    54539571    55291225   \n",
       "\n",
       "                     2016  \n",
       "Country Name               \n",
       "World          7444027227  \n",
       "United States   323127513  \n",
       "South Africa     56015473  \n",
       "\n",
       "[3 rows x 57 columns]"
      ]
     },
     "execution_count": 41,
     "metadata": {},
     "output_type": "execute_result"
    }
   ],
   "source": [
    "pop_data = pd.read_csv('data/pop_data.csv', index_col=0, header=0, sep=',', skiprows=[], thousands=',')\n",
    "pop_data.apply(pd.to_numeric)"
   ]
  },
  {
   "cell_type": "code",
   "execution_count": 43,
   "metadata": {
    "collapsed": true
   },
   "outputs": [],
   "source": [
    "gdp_real_data = gdp_data.as_matrix()\n",
    "pop_real_data = pop_data.as_matrix()"
   ]
  },
  {
   "cell_type": "code",
   "execution_count": 44,
   "metadata": {
    "collapsed": true
   },
   "outputs": [],
   "source": [
    "par_init = [0.003, 5.2, -55e-18, 0.031, -2e-22] # Initial values provided by report\n",
    "par_est = [0.003, 5.2e-6, -55e-17, 0.036, -2e-22] # Adjustments based on hypothesis\n",
    "\n",
    "# x0 = [1.15e9, 0.21e12]\n",
    "\n",
    "def model(t, data, params):   \n",
    "    a1, a3k1, a2, b1, b2 = params\n",
    "    \n",
    "    x0 = [data[0][0], data[1][0]]\n",
    "    \n",
    "    def dpdt(x, t):\n",
    "        return (a1*x[0] + a3k1*x[1] + a2*x[0]*x[1])\n",
    "    def dgdt(x, t):\n",
    "        return b1*x[1] + b2*x[0]*x[1]\n",
    "    def dxdt(x, t):\n",
    "        return np.array([dpdt(x, t),  dgdt(x, t)])\n",
    "    \n",
    "    return integrate.odeint(dxdt, x0, t).T # Transpose to get population and GDP in separate arrays\n",
    "\n",
    "def score(params, t, data):\n",
    "    model_data = model(t, data, params)\n",
    "    \n",
    "    return np.sum((model_data[0] - data[0])**2 + (model_data[1] - data[1])**2)"
   ]
  },
  {
   "cell_type": "code",
   "execution_count": 45,
   "metadata": {},
   "outputs": [
    {
     "name": "stdout",
     "output_type": "stream",
     "text": [
      "Optimization terminated successfully.\n",
      "         Current function value: 0.000002\n",
      "         Iterations: 400\n",
      "         Function evaluations: 754\n",
      "[  2.13909814e-03  -1.16597161e-05  -4.72980243e-17   3.42396726e-13\n",
      "  -2.97714513e-22]\n"
     ]
    },
    {
     "data": {
      "image/png": "[encoded data removed]",
      "text/plain": [
       "<matplotlib.figure.Figure at 0x117301a20>"
      ]
     },
     "metadata": {},
     "output_type": "display_data"
    }
   ],
   "source": [
    "t = np.arange(1960, 2017, 1)\n",
    "\n",
    "world_pop = pop_real_data[0]\n",
    "world_gdp = gdp_real_data[0]\n",
    "\n",
    "data = np.asarray([world_pop, world_gdp])\n",
    "\n",
    "result = optimize.fmin(score, x0=par_init, args=(t, data))\n",
    "print(result)\n",
    "\n",
    "t_plot = np.arange(1850, 2150, 1)\n",
    "\n",
    "# Change to paper's data points to align better with it\n",
    "data = np.asarray([[1.15e9], [0.21e12]])\n",
    "\n",
    "plt.figure()\n",
    "plt.title(\"Population\")\n",
    "plt.grid()\n",
    "# Plot using estimated parameters\n",
    "# Derived from educated guess from algorithm parameters\n",
    "plt.plot(t_plot, model(t_plot, data, par_est)[0])\n",
    "plt.plot(np.arange(1960, 2017, 1), world_pop, '*')\n",
    "plt.show()"
   ]
  },
  {
   "cell_type": "code",
   "execution_count": 48,
   "metadata": {},
   "outputs": [
    {
     "name": "stdout",
     "output_type": "stream",
     "text": [
      "[  2.04363524e-02  -2.15775934e-06   1.79165257e-16   2.30552290e-01\n",
      "  -2.79077632e-11]\n"
     ]
    },
    {
     "name": "stderr",
     "output_type": "stream",
     "text": [
      "/Users/rossfreeman/anaconda3/lib/python3.6/site-packages/scipy/integrate/odepack.py:218: ODEintWarning: Excess work done on this call (perhaps wrong Dfun type). Run with full_output = 1 to get quantitative information.\n",
      "  warnings.warn(warning_msg, ODEintWarning)\n"
     ]
    },
    {
     "data": {
      "image/png": "[encoded data removed]",
      "text/plain": [
       "<matplotlib.figure.Figure at 0x116a96240>"
      ]
     },
     "metadata": {},
     "output_type": "display_data"
    },
    {
     "data": {
      "image/png": "[encoded data removed]",
      "text/plain": [
       "<matplotlib.figure.Figure at 0x1168f8d68>"
      ]
     },
     "metadata": {},
     "output_type": "display_data"
    },
    {
     "name": "stdout",
     "output_type": "stream",
     "text": [
      "[  1.06801814e-02   2.76608274e-07  -1.04531230e-15   1.80206018e-01\n",
      "  -4.68960152e-10]\n"
     ]
    },
    {
     "data": {
      "image/png": "[encoded data removed]",
      "text/plain": [
       "<matplotlib.figure.Figure at 0x1165d4b00>"
      ]
     },
     "metadata": {},
     "output_type": "display_data"
    },
    {
     "data": {
      "image/png": "[encoded data removed]",
      "text/plain": [
       "<matplotlib.figure.Figure at 0x116a212e8>"
      ]
     },
     "metadata": {},
     "output_type": "display_data"
    },
    {
     "name": "stdout",
     "output_type": "stream",
     "text": [
      "[  2.21904455e-02   2.77303234e-06  -8.31084371e-14   2.90483363e-01\n",
      "  -5.20885607e-09]\n"
     ]
    },
    {
     "data": {
      "image/png": "[encoded data removed]",
      "text/plain": [
       "<matplotlib.figure.Figure at 0x116736128>"
      ]
     },
     "metadata": {},
     "output_type": "display_data"
    },
    {
     "data": {
      "image/png": "[encoded data removed]",
      "text/plain": [
       "<matplotlib.figure.Figure at 0x116830860>"
      ]
     },
     "metadata": {},
     "output_type": "display_data"
    }
   ],
   "source": [
    "for (idx, country_gdp) in enumerate(gdp_real_data):\n",
    "    country_pop = pop_real_data[idx]\n",
    "    data = np.asarray([country_pop, country_gdp])\n",
    "    \n",
    "    p = country_pop[1:] # All but first value\n",
    "    g = country_gdp[1:]\n",
    "    pg = p * g\n",
    "    \n",
    "    Y_pop = np.asarray([t - s for s, t in zip(country_pop, country_pop[1:])]) # Determine dp/dt vals\n",
    "    X_pop = np.asarray([p, g, pg]).T\n",
    "    \n",
    "    Y_gdp = np.asarray([t - s for s, t in zip(country_gdp, country_gdp[1:])]) # Determine dg/dt vals\n",
    "    X_gdp = np.asarray([g, pg]).T\n",
    "    \n",
    "    result_pop = np.linalg.lstsq(X_pop,Y_pop)\n",
    "    result_gdp = np.linalg.lstsq(X_gdp,Y_gdp)\n",
    "    result = np.append(result_pop[0], result_gdp[0])\n",
    "    print(result)\n",
    "    \n",
    "    t_plot = np.arange(1960, 2100, 1)\n",
    "    \n",
    "    plt.figure()\n",
    "    plt.title(\"Population\")\n",
    "    plt.grid()\n",
    "    plt.plot(t_plot, model(t_plot, data, result)[0])\n",
    "    plt.plot(np.arange(1960, 2017, 1), country_pop, '*')\n",
    "    plt.show()\n",
    "    \n",
    "    plt.figure()\n",
    "    plt.grid()\n",
    "    plt.title(\"GDP\")\n",
    "    plt.plot(t_plot, model(t_plot, data, result)[1])\n",
    "    # plt.plot(np.arange(1960, 2017, 1), res.T[1][110:-133])\n",
    "    plt.plot(np.arange(1960, 2017, 1), country_gdp, '*')\n",
    "    plt.plot()\n",
    "    plt.show()"
   ]
  },
  {
   "cell_type": "code",
   "execution_count": 63,
   "metadata": {},
   "outputs": [
    {
     "data": {
      "image/png": "[encoded data removed]",
      "text/plain": [
       "<matplotlib.figure.Figure at 0x115087668>"
      ]
     },
     "metadata": {},
     "output_type": "display_data"
    },
    {
     "data": {
      "image/png": "[encoded data removed]",
      "text/plain": [
       "<matplotlib.figure.Figure at 0x114c8f518>"
      ]
     },
     "metadata": {},
     "output_type": "display_data"
    }
   ],
   "source": [
    "t = np.arange(1835, 2150, 1)\n",
    "\n",
    "x0 = [[1.15e9], [0.21e12]]\n",
    "\n",
    "plt.figure()\n",
    "plt.title(\"Population\")\n",
    "plt.grid()\n",
    "plt.plot(t, model(t, x0, par_est)[0])\n",
    "plt.plot(np.arange(1960, 2017, 1), pop_real_data[0], '*')\n",
    "plt.show()\n",
    "\n",
    "t = np.arange(1850, 2150, 1)\n",
    "\n",
    "plt.figure()\n",
    "plt.title(\"Population\")\n",
    "plt.grid()\n",
    "plt.plot(t, model(t, x0, par_init)[0])\n",
    "plt.plot(np.arange(1960, 2017, 1), pop_real_data[0], '*')\n",
    "plt.show()"
   ]
  },
  {
   "cell_type": "code",
   "execution_count": 79,
   "metadata": {},
   "outputs": [
    {
     "ename": "IndexError",
     "evalue": "tuple index out of range",
     "output_type": "error",
     "traceback": [
      "\u001b[0;31m---------------------------------------------------------------------------\u001b[0m",
      "\u001b[0;31mIndexError\u001b[0m                                Traceback (most recent call last)",
      "\u001b[0;32m<ipython-input-79-58c0f3e8fb64>\u001b[0m in \u001b[0;36m<module>\u001b[0;34m()\u001b[0m\n\u001b[0;32m----> 1\u001b[0;31m \u001b[0mprint\u001b[0m\u001b[0;34m(\u001b[0m\u001b[0mresult_pop\u001b[0m\u001b[0;34m[\u001b[0m\u001b[0;36m4\u001b[0m\u001b[0;34m]\u001b[0m\u001b[0;34m)\u001b[0m\u001b[0;34m\u001b[0m\u001b[0m\n\u001b[0m",
      "\u001b[0;31mIndexError\u001b[0m: tuple index out of range"
     ]
    }
   ],
   "source": []
  },
  {
   "cell_type": "code",
   "execution_count": null,
   "metadata": {
    "collapsed": true
   },
   "outputs": [],
   "source": []
  }
 ],
 "metadata": {
  "kernelspec": {
   "display_name": "Python 3",
   "language": "python",
   "name": "python3"
  },
  "language_info": {
   "codemirror_mode": {
    "name": "ipython",
    "version": 3
   },
   "file_extension": ".py",
   "mimetype": "text/x-python",
   "name": "python",
   "nbconvert_exporter": "python",
   "pygments_lexer": "ipython3",
   "version": "3.6.3"
  }
 },
 "nbformat": 4,
 "nbformat_minor": 2
}
