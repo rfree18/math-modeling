{
 "cells": [
  {
   "cell_type": "markdown",
   "metadata": {},
   "source": [
    "# Final Project: Methods for Population Growth Projections"
   ]
  },
  {
   "cell_type": "markdown",
   "metadata": {},
   "source": [
    "## Logistic Growth"
   ]
  },
  {
   "cell_type": "markdown",
   "metadata": {},
   "source": [
    "Below is the standard logistic growth model, defined as $P(t) = \\frac{e^{\\gamma t}}{1 + \\frac{N_0}{K} (e^{\\gamma t} - 1)}$"
   ]
  },
  {
   "cell_type": "code",
   "execution_count": 56,
   "metadata": {},
   "outputs": [],
   "source": [
    "import pandas as pd\n",
    "import numpy as np\n",
    "import matplotlib.pyplot as plt\n",
    "\n",
    "pop_change_df = pd.read_csv('data/pop_change.csv', index_col=0, header=0, skiprows=[], thousands=',')\n",
    "# pop_change_df.apply(pd.to_numeric)"
   ]
  },
  {
   "cell_type": "code",
   "execution_count": 57,
   "metadata": {
    "collapsed": true
   },
   "outputs": [],
   "source": [
    "country_total = pop_change_df.as_matrix()[0]"
   ]
  },
  {
   "cell_type": "code",
   "execution_count": 58,
   "metadata": {},
   "outputs": [],
   "source": [
    "times = np.arange(1910,2020,10)"
   ]
  },
  {
   "cell_type": "code",
   "execution_count": 59,
   "metadata": {},
   "outputs": [
    {
     "data": {
      "image/png": "[encoded data removed]",
      "text/plain": [
       "<matplotlib.figure.Figure at 0x1a1c864828>"
      ]
     },
     "metadata": {},
     "output_type": "display_data"
    }
   ],
   "source": [
    "dN = (country_total[2:]-country_total[:-2])/(times[2:]-times[:-2])\n",
    "P = dN / country_total[1:-1]\n",
    "X = np.asarray([np.ones(9), country_total[1:-1]]).transpose()\n",
    "Y = np.asarray(P)\n",
    "alpha = np.linalg.lstsq(X,Y)[0]\n",
    "gamma = alpha[0]\n",
    "K = (-gamma) / alpha[1]\n",
    "    \n",
    "# compute the model estimate for the population development\n",
    "t_estimate = np.arange(1910, 2130, 5)\n",
    "N0=country_total[0]\n",
    "t_model=t_estimate-1910\n",
    "N=K*(N0/K)*np.exp(gamma*t_model)/(1+(N0/\n",
    "K)*(np.exp(gamma*t_model)-1))\n",
    "plt.figure()\n",
    "plt.plot(times, country_total, 's')\n",
    "plt.plot(t_estimate, N, 'k')\n",
    "plt.xlabel('Year')\n",
    "plt.ylabel('population')\n",
    "plt.title('United States')\n",
    "plt.show()"
   ]
  },
  {
   "cell_type": "markdown",
   "metadata": {},
   "source": [
    "## Logistic Growth Augmented with Migration"
   ]
  },
  {
   "cell_type": "markdown",
   "metadata": {},
   "source": [
    "## Modified Lotka-Volterra"
   ]
  },
  {
   "cell_type": "code",
   "execution_count": null,
   "metadata": {
    "collapsed": true
   },
   "outputs": [],
   "source": []
  }
 ],
 "metadata": {
  "kernelspec": {
   "display_name": "Python 3",
   "language": "python",
   "name": "python3"
  },
  "language_info": {
   "codemirror_mode": {
    "name": "ipython",
    "version": 3
   },
   "file_extension": ".py",
   "mimetype": "text/x-python",
   "name": "python",
   "nbconvert_exporter": "python",
   "pygments_lexer": "ipython3",
   "version": "3.6.3"
  }
 },
 "nbformat": 4,
 "nbformat_minor": 2
}
