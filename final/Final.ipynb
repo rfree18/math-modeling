{
 "cells": [
  {
   "cell_type": "markdown",
   "metadata": {},
   "source": [
    "# Final Project: Methods for Population Growth Projections"
   ]
  },
  {
   "cell_type": "markdown",
   "metadata": {},
   "source": [
    "## Logistic Growth"
   ]
  },
  {
   "cell_type": "markdown",
   "metadata": {},
   "source": [
    "Below is the standard logistic growth model, defined as $P(t) = \\frac{K N_0 e^{\\gamma t}}{K + N_0 (e^{\\gamma t} - 1)}$"
   ]
  },
  {
   "cell_type": "code",
   "execution_count": 1,
   "metadata": {},
   "outputs": [
    {
     "data": {
      "text/html": [
       "<div>\n",
       "<style>\n",
       "    .dataframe thead tr:only-child th {\n",
       "        text-align: right;\n",
       "    }\n",
       "\n",
       "    .dataframe thead th {\n",
       "        text-align: left;\n",
       "    }\n",
       "\n",
       "    .dataframe tbody tr th {\n",
       "        vertical-align: top;\n",
       "    }\n",
       "</style>\n",
       "<table border=\"1\" class=\"dataframe\">\n",
       "  <thead>\n",
       "    <tr style=\"text-align: right;\">\n",
       "      <th></th>\n",
       "      <th>1910_POPULATION</th>\n",
       "      <th>1920_POPULATION</th>\n",
       "      <th>1930_POPULATION</th>\n",
       "      <th>1940_POPULATION</th>\n",
       "      <th>1950_POPULATION</th>\n",
       "      <th>1960_POPULATION</th>\n",
       "      <th>1970_POPULATION</th>\n",
       "      <th>1980_POPULATION</th>\n",
       "      <th>1990_POPULATION</th>\n",
       "      <th>2000_POPULATION</th>\n",
       "      <th>2010_POPULATION</th>\n",
       "    </tr>\n",
       "    <tr>\n",
       "      <th>STATE_OR_REGION</th>\n",
       "      <th></th>\n",
       "      <th></th>\n",
       "      <th></th>\n",
       "      <th></th>\n",
       "      <th></th>\n",
       "      <th></th>\n",
       "      <th></th>\n",
       "      <th></th>\n",
       "      <th></th>\n",
       "      <th></th>\n",
       "      <th></th>\n",
       "    </tr>\n",
       "  </thead>\n",
       "  <tbody>\n",
       "    <tr>\n",
       "      <th>United States</th>\n",
       "      <td>92228531</td>\n",
       "      <td>106021568</td>\n",
       "      <td>123202660</td>\n",
       "      <td>132165129</td>\n",
       "      <td>151325798</td>\n",
       "      <td>179323175</td>\n",
       "      <td>203211926</td>\n",
       "      <td>226545805</td>\n",
       "      <td>248709873</td>\n",
       "      <td>281421906</td>\n",
       "      <td>308745538</td>\n",
       "    </tr>\n",
       "  </tbody>\n",
       "</table>\n",
       "</div>"
      ],
      "text/plain": [
       "                 1910_POPULATION  1920_POPULATION  1930_POPULATION  \\\n",
       "STATE_OR_REGION                                                      \n",
       "United States           92228531        106021568        123202660   \n",
       "\n",
       "                 1940_POPULATION  1950_POPULATION  1960_POPULATION  \\\n",
       "STATE_OR_REGION                                                      \n",
       "United States          132165129        151325798        179323175   \n",
       "\n",
       "                 1970_POPULATION  1980_POPULATION  1990_POPULATION  \\\n",
       "STATE_OR_REGION                                                      \n",
       "United States          203211926        226545805        248709873   \n",
       "\n",
       "                 2000_POPULATION  2010_POPULATION  \n",
       "STATE_OR_REGION                                    \n",
       "United States          281421906        308745538  "
      ]
     },
     "execution_count": 1,
     "metadata": {},
     "output_type": "execute_result"
    }
   ],
   "source": [
    "import pandas as pd\n",
    "import numpy as np\n",
    "from scipy import integrate\n",
    "from scipy import optimize\n",
    "import matplotlib.pyplot as plt\n",
    "\n",
    "pop_change_df = pd.read_csv('data/pop_change.csv', index_col=0, header=0, skiprows=[], thousands=',')\n",
    "pop_change_df.apply(pd.to_numeric)"
   ]
  },
  {
   "cell_type": "code",
   "execution_count": 2,
   "metadata": {
    "collapsed": true
   },
   "outputs": [],
   "source": [
    "country_total = pop_change_df.as_matrix()[0]"
   ]
  },
  {
   "cell_type": "code",
   "execution_count": 3,
   "metadata": {
    "collapsed": true
   },
   "outputs": [],
   "source": [
    "times = np.arange(1910,2020,10)"
   ]
  },
  {
   "cell_type": "code",
   "execution_count": 4,
   "metadata": {},
   "outputs": [
    {
     "data": {
      "image/png": "[encoded data removed]",
      "text/plain": [
       "<matplotlib.figure.Figure at 0x10f70d5f8>"
      ]
     },
     "metadata": {},
     "output_type": "display_data"
    }
   ],
   "source": [
    "dN = (country_total[2:]-country_total[:-2])/(times[2:]-times[:-2])\n",
    "P = dN / country_total[1:-1]\n",
    "X = np.asarray([np.ones(9), country_total[1:-1]]).transpose()\n",
    "Y = np.asarray(P)\n",
    "alpha = np.linalg.lstsq(X,Y)[0]\n",
    "gamma = alpha[0]\n",
    "K = (-gamma) / alpha[1]\n",
    "    \n",
    "# compute the model estimate for the population development\n",
    "t_estimate = np.arange(1910, 2130, 5)\n",
    "N0=country_total[0]\n",
    "t_model=t_estimate-1910\n",
    "N=K*(N0/K)*np.exp(gamma*t_model)/(1+(N0/\n",
    "K)*(np.exp(gamma*t_model)-1))\n",
    "plt.figure()\n",
    "plt.plot(times, country_total, 's')\n",
    "plt.plot(t_estimate, N, 'k')\n",
    "plt.xlabel('Year')\n",
    "plt.ylabel('population')\n",
    "plt.title('United States')\n",
    "plt.show()"
   ]
  },
  {
   "cell_type": "markdown",
   "metadata": {},
   "source": [
    "## Modified Lotka-Volterra"
   ]
  },
  {
   "cell_type": "code",
   "execution_count": 6,
   "metadata": {},
   "outputs": [
    {
     "data": {
      "text/html": [
       "<div>\n",
       "<style>\n",
       "    .dataframe thead tr:only-child th {\n",
       "        text-align: right;\n",
       "    }\n",
       "\n",
       "    .dataframe thead th {\n",
       "        text-align: left;\n",
       "    }\n",
       "\n",
       "    .dataframe tbody tr th {\n",
       "        vertical-align: top;\n",
       "    }\n",
       "</style>\n",
       "<table border=\"1\" class=\"dataframe\">\n",
       "  <thead>\n",
       "    <tr style=\"text-align: right;\">\n",
       "      <th></th>\n",
       "      <th>1960</th>\n",
       "      <th>1961</th>\n",
       "      <th>1962</th>\n",
       "      <th>1963</th>\n",
       "      <th>1964</th>\n",
       "      <th>1965</th>\n",
       "      <th>1966</th>\n",
       "      <th>1967</th>\n",
       "      <th>1968</th>\n",
       "      <th>1969</th>\n",
       "      <th>...</th>\n",
       "      <th>2007</th>\n",
       "      <th>2008</th>\n",
       "      <th>2009</th>\n",
       "      <th>2010</th>\n",
       "      <th>2011</th>\n",
       "      <th>2012</th>\n",
       "      <th>2013</th>\n",
       "      <th>2014</th>\n",
       "      <th>2015</th>\n",
       "      <th>2016</th>\n",
       "    </tr>\n",
       "    <tr>\n",
       "      <th>Country Name</th>\n",
       "      <th></th>\n",
       "      <th></th>\n",
       "      <th></th>\n",
       "      <th></th>\n",
       "      <th></th>\n",
       "      <th></th>\n",
       "      <th></th>\n",
       "      <th></th>\n",
       "      <th></th>\n",
       "      <th></th>\n",
       "      <th></th>\n",
       "      <th></th>\n",
       "      <th></th>\n",
       "      <th></th>\n",
       "      <th></th>\n",
       "      <th></th>\n",
       "      <th></th>\n",
       "      <th></th>\n",
       "      <th></th>\n",
       "      <th></th>\n",
       "      <th></th>\n",
       "    </tr>\n",
       "  </thead>\n",
       "  <tbody>\n",
       "    <tr>\n",
       "      <th>World</th>\n",
       "      <td>1.366670e+12</td>\n",
       "      <td>1.421780e+12</td>\n",
       "      <td>1.526940e+12</td>\n",
       "      <td>1.643740e+12</td>\n",
       "      <td>1.800780e+12</td>\n",
       "      <td>1.961770e+12</td>\n",
       "      <td>2.128440e+12</td>\n",
       "      <td>2.264580e+12</td>\n",
       "      <td>2.443210e+12</td>\n",
       "      <td>2.690780e+12</td>\n",
       "      <td>...</td>\n",
       "      <td>5.785850e+13</td>\n",
       "      <td>6.346140e+13</td>\n",
       "      <td>6.016790e+13</td>\n",
       "      <td>6.595460e+13</td>\n",
       "      <td>7.328040e+13</td>\n",
       "      <td>7.489050e+13</td>\n",
       "      <td>7.699300e+13</td>\n",
       "      <td>7.909090e+13</td>\n",
       "      <td>7.478190e+13</td>\n",
       "      <td>7.587170e+13</td>\n",
       "    </tr>\n",
       "    <tr>\n",
       "      <th>United States</th>\n",
       "      <td>5.433000e+11</td>\n",
       "      <td>5.633000e+11</td>\n",
       "      <td>6.051000e+11</td>\n",
       "      <td>6.386000e+11</td>\n",
       "      <td>6.858000e+11</td>\n",
       "      <td>7.437000e+11</td>\n",
       "      <td>8.150000e+11</td>\n",
       "      <td>8.617000e+11</td>\n",
       "      <td>9.425000e+11</td>\n",
       "      <td>1.019900e+12</td>\n",
       "      <td>...</td>\n",
       "      <td>1.447760e+13</td>\n",
       "      <td>1.471860e+13</td>\n",
       "      <td>1.441870e+13</td>\n",
       "      <td>1.496440e+13</td>\n",
       "      <td>1.551790e+13</td>\n",
       "      <td>1.615530e+13</td>\n",
       "      <td>1.669150e+13</td>\n",
       "      <td>1.742760e+13</td>\n",
       "      <td>1.812070e+13</td>\n",
       "      <td>1.862450e+13</td>\n",
       "    </tr>\n",
       "    <tr>\n",
       "      <th>United Kingdom</th>\n",
       "      <td>7.232805e+10</td>\n",
       "      <td>7.669436e+10</td>\n",
       "      <td>8.060194e+10</td>\n",
       "      <td>8.544377e+10</td>\n",
       "      <td>9.338760e+10</td>\n",
       "      <td>1.005960e+11</td>\n",
       "      <td>1.070910e+11</td>\n",
       "      <td>1.111850e+11</td>\n",
       "      <td>1.047030e+11</td>\n",
       "      <td>1.126770e+11</td>\n",
       "      <td>...</td>\n",
       "      <td>3.074360e+12</td>\n",
       "      <td>2.890560e+12</td>\n",
       "      <td>2.382830e+12</td>\n",
       "      <td>2.441170e+12</td>\n",
       "      <td>2.619700e+12</td>\n",
       "      <td>2.662090e+12</td>\n",
       "      <td>2.739820e+12</td>\n",
       "      <td>3.022830e+12</td>\n",
       "      <td>2.885570e+12</td>\n",
       "      <td>2.650850e+12</td>\n",
       "    </tr>\n",
       "  </tbody>\n",
       "</table>\n",
       "<p>3 rows × 57 columns</p>\n",
       "</div>"
      ],
      "text/plain": [
       "                        1960          1961          1962          1963  \\\n",
       "Country Name                                                             \n",
       "World           1.366670e+12  1.421780e+12  1.526940e+12  1.643740e+12   \n",
       "United States   5.433000e+11  5.633000e+11  6.051000e+11  6.386000e+11   \n",
       "United Kingdom  7.232805e+10  7.669436e+10  8.060194e+10  8.544377e+10   \n",
       "\n",
       "                        1964          1965          1966          1967  \\\n",
       "Country Name                                                             \n",
       "World           1.800780e+12  1.961770e+12  2.128440e+12  2.264580e+12   \n",
       "United States   6.858000e+11  7.437000e+11  8.150000e+11  8.617000e+11   \n",
       "United Kingdom  9.338760e+10  1.005960e+11  1.070910e+11  1.111850e+11   \n",
       "\n",
       "                        1968          1969      ...               2007  \\\n",
       "Country Name                                    ...                      \n",
       "World           2.443210e+12  2.690780e+12      ...       5.785850e+13   \n",
       "United States   9.425000e+11  1.019900e+12      ...       1.447760e+13   \n",
       "United Kingdom  1.047030e+11  1.126770e+11      ...       3.074360e+12   \n",
       "\n",
       "                        2008          2009          2010          2011  \\\n",
       "Country Name                                                             \n",
       "World           6.346140e+13  6.016790e+13  6.595460e+13  7.328040e+13   \n",
       "United States   1.471860e+13  1.441870e+13  1.496440e+13  1.551790e+13   \n",
       "United Kingdom  2.890560e+12  2.382830e+12  2.441170e+12  2.619700e+12   \n",
       "\n",
       "                        2012          2013          2014          2015  \\\n",
       "Country Name                                                             \n",
       "World           7.489050e+13  7.699300e+13  7.909090e+13  7.478190e+13   \n",
       "United States   1.615530e+13  1.669150e+13  1.742760e+13  1.812070e+13   \n",
       "United Kingdom  2.662090e+12  2.739820e+12  3.022830e+12  2.885570e+12   \n",
       "\n",
       "                        2016  \n",
       "Country Name                  \n",
       "World           7.587170e+13  \n",
       "United States   1.862450e+13  \n",
       "United Kingdom  2.650850e+12  \n",
       "\n",
       "[3 rows x 57 columns]"
      ]
     },
     "execution_count": 6,
     "metadata": {},
     "output_type": "execute_result"
    }
   ],
   "source": [
    "gdp_data = pd.read_csv('data/gdp_new.csv', index_col=0, header=0, sep=',', skiprows=[], thousands=',')\n",
    "gdp_data.apply(pd.to_numeric)"
   ]
  },
  {
   "cell_type": "code",
   "execution_count": 7,
   "metadata": {},
   "outputs": [
    {
     "data": {
      "text/html": [
       "<div>\n",
       "<style>\n",
       "    .dataframe thead tr:only-child th {\n",
       "        text-align: right;\n",
       "    }\n",
       "\n",
       "    .dataframe thead th {\n",
       "        text-align: left;\n",
       "    }\n",
       "\n",
       "    .dataframe tbody tr th {\n",
       "        vertical-align: top;\n",
       "    }\n",
       "</style>\n",
       "<table border=\"1\" class=\"dataframe\">\n",
       "  <thead>\n",
       "    <tr style=\"text-align: right;\">\n",
       "      <th></th>\n",
       "      <th>1960</th>\n",
       "      <th>1961</th>\n",
       "      <th>1962</th>\n",
       "      <th>1963</th>\n",
       "      <th>1964</th>\n",
       "      <th>1965</th>\n",
       "      <th>1966</th>\n",
       "      <th>1967</th>\n",
       "      <th>1968</th>\n",
       "      <th>1969</th>\n",
       "      <th>...</th>\n",
       "      <th>2007</th>\n",
       "      <th>2008</th>\n",
       "      <th>2009</th>\n",
       "      <th>2010</th>\n",
       "      <th>2011</th>\n",
       "      <th>2012</th>\n",
       "      <th>2013</th>\n",
       "      <th>2014</th>\n",
       "      <th>2015</th>\n",
       "      <th>2016</th>\n",
       "    </tr>\n",
       "    <tr>\n",
       "      <th>Country Name</th>\n",
       "      <th></th>\n",
       "      <th></th>\n",
       "      <th></th>\n",
       "      <th></th>\n",
       "      <th></th>\n",
       "      <th></th>\n",
       "      <th></th>\n",
       "      <th></th>\n",
       "      <th></th>\n",
       "      <th></th>\n",
       "      <th></th>\n",
       "      <th></th>\n",
       "      <th></th>\n",
       "      <th></th>\n",
       "      <th></th>\n",
       "      <th></th>\n",
       "      <th></th>\n",
       "      <th></th>\n",
       "      <th></th>\n",
       "      <th></th>\n",
       "      <th></th>\n",
       "    </tr>\n",
       "  </thead>\n",
       "  <tbody>\n",
       "    <tr>\n",
       "      <th>World</th>\n",
       "      <td>3032160395</td>\n",
       "      <td>3073368588</td>\n",
       "      <td>3126509808</td>\n",
       "      <td>3191786431</td>\n",
       "      <td>3257459749</td>\n",
       "      <td>3324545317</td>\n",
       "      <td>3394783656</td>\n",
       "      <td>3464689184</td>\n",
       "      <td>3535355320</td>\n",
       "      <td>3610178790</td>\n",
       "      <td>...</td>\n",
       "      <td>6683228246</td>\n",
       "      <td>6766302523</td>\n",
       "      <td>6849573246</td>\n",
       "      <td>6932880892</td>\n",
       "      <td>7014998805</td>\n",
       "      <td>7099548883</td>\n",
       "      <td>7185078354</td>\n",
       "      <td>7271228018</td>\n",
       "      <td>7357369754</td>\n",
       "      <td>7444027227</td>\n",
       "    </tr>\n",
       "    <tr>\n",
       "      <th>United States</th>\n",
       "      <td>180671000</td>\n",
       "      <td>183691000</td>\n",
       "      <td>186538000</td>\n",
       "      <td>189242000</td>\n",
       "      <td>191889000</td>\n",
       "      <td>194303000</td>\n",
       "      <td>196560000</td>\n",
       "      <td>198712000</td>\n",
       "      <td>200706000</td>\n",
       "      <td>202677000</td>\n",
       "      <td>...</td>\n",
       "      <td>301231207</td>\n",
       "      <td>304093966</td>\n",
       "      <td>306771529</td>\n",
       "      <td>309348193</td>\n",
       "      <td>311663358</td>\n",
       "      <td>313998379</td>\n",
       "      <td>316204908</td>\n",
       "      <td>318563456</td>\n",
       "      <td>320896618</td>\n",
       "      <td>323127513</td>\n",
       "    </tr>\n",
       "    <tr>\n",
       "      <th>United Kingdom</th>\n",
       "      <td>52400000</td>\n",
       "      <td>52800000</td>\n",
       "      <td>53250000</td>\n",
       "      <td>53650000</td>\n",
       "      <td>54000000</td>\n",
       "      <td>54348050</td>\n",
       "      <td>54648500</td>\n",
       "      <td>54943600</td>\n",
       "      <td>55211700</td>\n",
       "      <td>55441750</td>\n",
       "      <td>...</td>\n",
       "      <td>61322463</td>\n",
       "      <td>61806995</td>\n",
       "      <td>62276270</td>\n",
       "      <td>62766365</td>\n",
       "      <td>63258918</td>\n",
       "      <td>63700300</td>\n",
       "      <td>64128226</td>\n",
       "      <td>64613160</td>\n",
       "      <td>65128861</td>\n",
       "      <td>65595565</td>\n",
       "    </tr>\n",
       "  </tbody>\n",
       "</table>\n",
       "<p>3 rows × 57 columns</p>\n",
       "</div>"
      ],
      "text/plain": [
       "                      1960        1961        1962        1963        1964  \\\n",
       "Country Name                                                                 \n",
       "World           3032160395  3073368588  3126509808  3191786431  3257459749   \n",
       "United States    180671000   183691000   186538000   189242000   191889000   \n",
       "United Kingdom    52400000    52800000    53250000    53650000    54000000   \n",
       "\n",
       "                      1965        1966        1967        1968        1969  \\\n",
       "Country Name                                                                 \n",
       "World           3324545317  3394783656  3464689184  3535355320  3610178790   \n",
       "United States    194303000   196560000   198712000   200706000   202677000   \n",
       "United Kingdom    54348050    54648500    54943600    55211700    55441750   \n",
       "\n",
       "                   ...            2007        2008        2009        2010  \\\n",
       "Country Name       ...                                                       \n",
       "World              ...      6683228246  6766302523  6849573246  6932880892   \n",
       "United States      ...       301231207   304093966   306771529   309348193   \n",
       "United Kingdom     ...        61322463    61806995    62276270    62766365   \n",
       "\n",
       "                      2011        2012        2013        2014        2015  \\\n",
       "Country Name                                                                 \n",
       "World           7014998805  7099548883  7185078354  7271228018  7357369754   \n",
       "United States    311663358   313998379   316204908   318563456   320896618   \n",
       "United Kingdom    63258918    63700300    64128226    64613160    65128861   \n",
       "\n",
       "                      2016  \n",
       "Country Name                \n",
       "World           7444027227  \n",
       "United States    323127513  \n",
       "United Kingdom    65595565  \n",
       "\n",
       "[3 rows x 57 columns]"
      ]
     },
     "execution_count": 7,
     "metadata": {},
     "output_type": "execute_result"
    }
   ],
   "source": [
    "pop_data = pd.read_csv('data/pop_data.csv', index_col=0, header=0, sep=',', skiprows=[], thousands=',')\n",
    "pop_data.apply(pd.to_numeric)"
   ]
  },
  {
   "cell_type": "code",
   "execution_count": 8,
   "metadata": {
    "collapsed": true
   },
   "outputs": [],
   "source": [
    "gdp_real_data = gdp_data.as_matrix()\n",
    "pop_real_data = pop_data.as_matrix()"
   ]
  },
  {
   "cell_type": "code",
   "execution_count": 19,
   "metadata": {
    "collapsed": true
   },
   "outputs": [],
   "source": [
    "par_init = [0.003, 5.2, -55e-18, 0.031, -2e-22] # Initial values provided by report\n",
    "par_est = [0.003, 5.2e-6, -55e-17, 0.031, -2e-22] # Adjustments based on hypothesis\n",
    "\n",
    "# x0 = [1.15e9, 0.21e12]\n",
    "\n",
    "def model(t, data, params):   \n",
    "    a1, a3k1, a2, b1, b2 = params\n",
    "    \n",
    "    x0 = [data[0][0], data[1][0]]\n",
    "    \n",
    "    def dpdt(x, t):\n",
    "        return (a1*x[0] + a3k1*x[1] + a2*x[0]*x[1])\n",
    "    def dgdt(x, t):\n",
    "        return b1*x[1] + b2*x[0]*x[1]\n",
    "    def dxdt(x, t):\n",
    "        return np.array([dpdt(x, t),  dgdt(x, t)])\n",
    "    \n",
    "    return integrate.odeint(dxdt, x0, t).T # Transpose to get population and GDP in separate arrays\n",
    "\n",
    "def score(params, t, data):\n",
    "    model_data = model(t, data, params)\n",
    "    \n",
    "    return (model_data[0] - data[0])**2 + (model_data[1] - data[1])**2"
   ]
  },
  {
   "cell_type": "code",
   "execution_count": 83,
   "metadata": {},
   "outputs": [
    {
     "name": "stdout",
     "output_type": "stream",
     "text": [
      "[41208193 53141220 65276623 65673318 67085568 70238339 69905528 70666136\n",
      " 74823470 75574548 77639703 76876635 75974024 76627581 74869289 72906775\n",
      " 72657853 73850479 75708263 76473828 78464885 81378965 82080479 81781007\n",
      " 83295269 85775255 87887472 88812175 88945013 90344928 87385409 84265238\n",
      " 85119225 83918094 85003191 82837748 82801778 81732146 80652545 79864151\n",
      " 79658107 79190999 79369461 79926138 80473991 81179213 81747596 83074277\n",
      " 83270723 83307646 82117913 84550078 85529471 86149664 86141736 86657473]\n",
      "[  2.09612089e-02  -2.59087427e-06   2.34812298e-16   2.47460861e-01\n",
      "  -3.08722175e-11]\n"
     ]
    },
    {
     "name": "stderr",
     "output_type": "stream",
     "text": [
      "/Users/rossfreeman/anaconda3/lib/python3.6/site-packages/scipy/integrate/odepack.py:218: ODEintWarning: Excess work done on this call (perhaps wrong Dfun type). Run with full_output = 1 to get quantitative information.\n",
      "  warnings.warn(warning_msg, ODEintWarning)\n"
     ]
    },
    {
     "data": {
      "image/png": "[encoded data removed]",
      "text/plain": [
       "<matplotlib.figure.Figure at 0x114960ac8>"
      ]
     },
     "metadata": {},
     "output_type": "display_data"
    },
    {
     "data": {
      "image/png": "[encoded data removed]",
      "text/plain": [
       "<matplotlib.figure.Figure at 0x114c78198>"
      ]
     },
     "metadata": {},
     "output_type": "display_data"
    },
    {
     "name": "stdout",
     "output_type": "stream",
     "text": [
      "[3020000 2847000 2704000 2647000 2414000 2257000 2152000 1994000 1971000\n",
      " 2375000 2609000 2235000 2013000 1945000 2119000 2062000 2204000 2346000\n",
      " 2470000 2170000 2241000 2198000 2128000 2033000 2099000 2209000 2156000\n",
      " 2210000 2320000 2804000 3358000 3533000 3405000 3207000 3152000 3116000\n",
      " 3263000 3197000 3186000 3122411 2806544 2656238 2482740 2697365 2711301\n",
      " 2863313 2851295 2862759 2677563 2576664 2315165 2335021 2206529 2358548\n",
      " 2333162 2230895]\n",
      "[  1.06789232e-02   3.17578722e-07  -1.18777337e-15   1.90843024e-01\n",
      "  -5.03553276e-10]\n"
     ]
    },
    {
     "data": {
      "image/png": "[encoded data removed]",
      "text/plain": [
       "<matplotlib.figure.Figure at 0x114f8cc50>"
      ]
     },
     "metadata": {},
     "output_type": "display_data"
    },
    {
     "data": {
      "image/png": "[encoded data removed]",
      "text/plain": [
       "<matplotlib.figure.Figure at 0x10b389278>"
      ]
     },
     "metadata": {},
     "output_type": "display_data"
    },
    {
     "name": "stdout",
     "output_type": "stream",
     "text": [
      "[400000 450000 400000 350000 348050 300450 295100 268100 230050 221500\n",
      " 232973 189842 108462  35447  -4174 -13832 -18476   3012  50447  67265\n",
      "  19613 -20188  19207  89224 128196 131128 120654 126277 148384 170875\n",
      " 177311 155505 138212 147131 153285 147920 150004 170187 195325 210048\n",
      " 227159 250806 277098 340328 413301 445614 475643 484532 469275 490095\n",
      " 492553 441382 427926 484934 515701 466704]\n",
      "[  2.98983175e-03  -9.65555952e-07   1.69427603e-14   8.46301522e-01\n",
      "  -1.33976890e-08]\n"
     ]
    },
    {
     "data": {
      "image/png": "[encoded data removed]",
      "text/plain": [
       "<matplotlib.figure.Figure at 0x11513ab00>"
      ]
     },
     "metadata": {},
     "output_type": "display_data"
    },
    {
     "data": {
      "image/png": "[encoded data removed]",
      "text/plain": [
       "<matplotlib.figure.Figure at 0x114d71d68>"
      ]
     },
     "metadata": {},
     "output_type": "display_data"
    }
   ],
   "source": [
    "t = np.arange(1960, 2017, 1)\n",
    "\n",
    "for (idx, country_gdp) in enumerate(gdp_real_data):\n",
    "    country_pop = pop_real_data[idx]\n",
    "    data = np.asarray([country_pop, country_gdp])\n",
    "    \n",
    "    p = country_pop[:-1]\n",
    "    g = country_gdp[:-1]\n",
    "    pg = p * g\n",
    "    \n",
    "    Y_pop = np.asarray([t - s for s, t in zip(country_pop, country_pop[1:])]) # Determine dp/dt vals\n",
    "    X_pop = np.asarray([p, g, pg]).T\n",
    "    \n",
    "    print(Y_pop)\n",
    "    \n",
    "    Y_gdp = np.asarray([t - s for s, t in zip(country_gdp, country_gdp[1:])]) # Determine dg/dt vals\n",
    "    X_gdp = np.asarray([g, pg]).T\n",
    "    \n",
    "    result_pop = np.linalg.lstsq(X_pop,Y_pop)\n",
    "    result_gdp = np.linalg.lstsq(X_gdp,Y_gdp)\n",
    "    result = np.append(result_pop[0], result_gdp[0])\n",
    "    print(result)\n",
    "    \n",
    "    t_plot = np.arange(1960, 2017, 1)\n",
    "    \n",
    "    plt.figure()\n",
    "    plt.title(\"Population\")\n",
    "    plt.grid()\n",
    "    plt.plot(t_plot, model(t_plot, data, result)[0])\n",
    "    plt.plot(np.arange(1960, 2017, 1), country_pop, '*')\n",
    "    plt.show()\n",
    "    \n",
    "    plt.figure()\n",
    "    plt.grid()\n",
    "    plt.title(\"GDP\")\n",
    "    plt.plot(t_plot, model(t_plot, data, result)[1])\n",
    "    # plt.plot(np.arange(1960, 2017, 1), res.T[1][110:-133])\n",
    "    plt.plot(np.arange(1960, 2017, 1), country_gdp, '*')\n",
    "    plt.plot()\n",
    "    plt.show()"
   ]
  },
  {
   "cell_type": "code",
   "execution_count": 63,
   "metadata": {},
   "outputs": [
    {
     "data": {
      "image/png": "[encoded data removed]",
      "text/plain": [
       "<matplotlib.figure.Figure at 0x115087668>"
      ]
     },
     "metadata": {},
     "output_type": "display_data"
    },
    {
     "data": {
      "image/png": "[encoded data removed]",
      "text/plain": [
       "<matplotlib.figure.Figure at 0x114c8f518>"
      ]
     },
     "metadata": {},
     "output_type": "display_data"
    }
   ],
   "source": [
    "t = np.arange(1835, 2150, 1)\n",
    "\n",
    "x0 = [[1.15e9], [0.21e12]]\n",
    "\n",
    "plt.figure()\n",
    "plt.title(\"Population\")\n",
    "plt.grid()\n",
    "plt.plot(t, model(t, x0, par_est)[0])\n",
    "plt.plot(np.arange(1960, 2017, 1), pop_real_data[0], '*')\n",
    "plt.show()\n",
    "\n",
    "t = np.arange(1850, 2150, 1)\n",
    "\n",
    "plt.figure()\n",
    "plt.title(\"Population\")\n",
    "plt.grid()\n",
    "plt.plot(t, model(t, x0, par_init)[0])\n",
    "plt.plot(np.arange(1960, 2017, 1), pop_real_data[0], '*')\n",
    "plt.show()"
   ]
  },
  {
   "cell_type": "code",
   "execution_count": 79,
   "metadata": {},
   "outputs": [
    {
     "ename": "IndexError",
     "evalue": "tuple index out of range",
     "output_type": "error",
     "traceback": [
      "\u001b[0;31m---------------------------------------------------------------------------\u001b[0m",
      "\u001b[0;31mIndexError\u001b[0m                                Traceback (most recent call last)",
      "\u001b[0;32m<ipython-input-79-58c0f3e8fb64>\u001b[0m in \u001b[0;36m<module>\u001b[0;34m()\u001b[0m\n\u001b[0;32m----> 1\u001b[0;31m \u001b[0mprint\u001b[0m\u001b[0;34m(\u001b[0m\u001b[0mresult_pop\u001b[0m\u001b[0;34m[\u001b[0m\u001b[0;36m4\u001b[0m\u001b[0;34m]\u001b[0m\u001b[0;34m)\u001b[0m\u001b[0;34m\u001b[0m\u001b[0m\n\u001b[0m",
      "\u001b[0;31mIndexError\u001b[0m: tuple index out of range"
     ]
    }
   ],
   "source": []
  },
  {
   "cell_type": "code",
   "execution_count": null,
   "metadata": {
    "collapsed": true
   },
   "outputs": [],
   "source": []
  }
 ],
 "metadata": {
  "kernelspec": {
   "display_name": "Python 3",
   "language": "python",
   "name": "python3"
  },
  "language_info": {
   "codemirror_mode": {
    "name": "ipython",
    "version": 3
   },
   "file_extension": ".py",
   "mimetype": "text/x-python",
   "name": "python",
   "nbconvert_exporter": "python",
   "pygments_lexer": "ipython3",
   "version": "3.6.3"
  }
 },
 "nbformat": 4,
 "nbformat_minor": 2
}
