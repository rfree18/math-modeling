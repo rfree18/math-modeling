{
 "cells": [
  {
   "cell_type": "markdown",
   "metadata": {},
   "source": [
    "# Maximizing Long Term Profit and Average Sustainable Catch"
   ]
  },
  {
   "cell_type": "code",
   "execution_count": 1,
   "metadata": {
    "collapsed": true
   },
   "outputs": [],
   "source": [
    "import numpy as np\n",
    "import matplotlib.pyplot as plt\n",
    "import scipy.optimize as sc"
   ]
  },
  {
   "cell_type": "code",
   "execution_count": 2,
   "metadata": {
    "collapsed": true
   },
   "outputs": [],
   "source": [
    "g = 0.25\n",
    "k = 30\n",
    "q = 0.025\n",
    "p = 10\n",
    "d = 0.2\n",
    "x0 = 2\n",
    "c = 2\n",
    "\n",
    "beta = c/(p * q * k)"
   ]
  },
  {
   "cell_type": "markdown",
   "metadata": {},
   "source": [
    "## Maximizing Sustainable Catch"
   ]
  },
  {
   "cell_type": "code",
   "execution_count": 6,
   "metadata": {},
   "outputs": [
    {
     "name": "stdout",
     "output_type": "stream",
     "text": [
      "Boats for max catch: 5.0\n"
     ]
    }
   ],
   "source": [
    "def avg_catch(b):\n",
    "    return q * b * k * (1 - q * b / g)\n",
    "\n",
    "max_catch = g / (2 * q)\n",
    "print('Boats for max catch: ' + str(max_catch))"
   ]
  },
  {
   "cell_type": "markdown",
   "metadata": {},
   "source": [
    "## Maximizing Long Term Profit\n",
    "As shown below, maximizing long term profit results in about 5.36 boats. Since we cannot have a fraction of a boat, this can be rounded down to 5. The value outputted by the Scipy optimization function roughly matches that of the equation for $b^*$ as described in the text. This can be seen below."
   ]
  },
  {
   "cell_type": "code",
   "execution_count": 9,
   "metadata": {},
   "outputs": [
    {
     "name": "stdout",
     "output_type": "stream",
     "text": [
      "Optimization terminated successfully.\n",
      "         Current function value: -5.390303\n",
      "         Iterations: 30\n",
      "         Function evaluations: 60\n",
      "Scipy: 5.36525 Max equation: 5.36522465889\n",
      "Optimization terminated successfully.\n",
      "         Current function value: -1.875000\n",
      "         Iterations: 29\n",
      "         Function evaluations: 58\n",
      "[ 5.]\n"
     ]
    },
    {
     "name": "stderr",
     "output_type": "stream",
     "text": [
      "/Users/rossfreeman/anaconda3/lib/python3.6/site-packages/ipykernel_launcher.py:6: RuntimeWarning: divide by zero encountered in true_divide\n",
      "  \n"
     ]
    }
   ],
   "source": [
    "b_max = g/q * (1 - c/(p * q * k))\n",
    "\n",
    "b0 = np.arange(1,b_max,0.1)\n",
    "\n",
    "def profit(b):\n",
    "    t = 1/g * (np.log(k/x0 - 1) + np.log(g/(q * b) - 1))\n",
    "    return b/d * (p * q * k * (1 - (q*b)/g) - c) * np.exp(-d * t)\n",
    "\n",
    "# Use Scipy to calculate maximum long term profit\n",
    "b_opt = sc.fmin(lambda x: -profit(x), 0)\n",
    "\n",
    "# Calculate manually using the function as described in the text\n",
    "b_opt_man = g/(4*q) * (3 - beta + d/g - np.sqrt((1 + beta - d/g) ** 2 + 8 * beta * d/g))\n",
    "\n",
    "print('Scipy: ' + str(b_opt[0]) + ' Max equation: ' + str(b_opt_man))\n",
    "\n",
    "# Calculate maximum amount of boats for average long term catch\n",
    "print(sc.fmin(lambda x: -avg_catch(x), 0))\n"
   ]
  },
  {
   "cell_type": "markdown",
   "metadata": {},
   "source": [
    "The output of the given equation for $b^*$ matches the maximum value of $b^*$ output by the Scipy optimize function, thus verifying the equation's correctness."
   ]
  },
  {
   "cell_type": "code",
   "execution_count": 5,
   "metadata": {},
   "outputs": [
    {
     "data": {
      "image/png": "[encoded data removed]",
      "text/plain": [
       "<matplotlib.figure.Figure at 0x109f4eac8>"
      ]
     },
     "metadata": {},
     "output_type": "display_data"
    },
    {
     "data": {
      "image/png": "[encoded data removed]",
      "text/plain": [
       "<matplotlib.figure.Figure at 0x10cd23e10>"
      ]
     },
     "metadata": {},
     "output_type": "display_data"
    }
   ],
   "source": [
    "plt.figure()\n",
    "plt.title('Long Term Profit')\n",
    "plt.xlabel('Boats')\n",
    "plt.ylabel('Profit')\n",
    "plt.plot(b0, profit(b0), '-')\n",
    "plt.show()\n",
    "\n",
    "plt.figure()\n",
    "plt.title('Average Long Term Catch')\n",
    "plt.xlabel('Boats')\n",
    "plt.ylabel('Fish')\n",
    "plt.plot(b0, avg_catch(b0), '-')\n",
    "plt.show()"
   ]
  },
  {
   "cell_type": "markdown",
   "metadata": {
    "collapsed": true
   },
   "source": [
    "## Conclusion\n",
    "As seen above, maximizing long term profit results in about 5.36 boats while maximizing the average sustainable catch results in 5 boats. Since we cannot have a fraction of a boat, the result of maximizing long term profit can be adjusted to 5. The discount parameter $\\delta$ can represent conditions such as inflation over time. Increasing this value will significantly decrease the maximum long term profit while also increasing the number of boats needed to maximize profit. Decrease this will have the exact opposite affect."
   ]
  },
  {
   "cell_type": "code",
   "execution_count": null,
   "metadata": {
    "collapsed": true
   },
   "outputs": [],
   "source": []
  }
 ],
 "metadata": {
  "kernelspec": {
   "display_name": "Python 3",
   "language": "python",
   "name": "python3"
  },
  "language_info": {
   "codemirror_mode": {
    "name": "ipython",
    "version": 3
   },
   "file_extension": ".py",
   "mimetype": "text/x-python",
   "name": "python",
   "nbconvert_exporter": "python",
   "pygments_lexer": "ipython3",
   "version": "3.6.3"
  }
 },
 "nbformat": 4,
 "nbformat_minor": 2
}
