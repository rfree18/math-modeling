{
 "cells": [
  {
   "cell_type": "markdown",
   "metadata": {},
   "source": [
    "# HW9 Question 2\n",
    "Ross Freeman"
   ]
  },
  {
   "cell_type": "markdown",
   "metadata": {},
   "source": [
    "$J(\\rho) = \\frac{\\rho v_{max}} {\\log(\\frac{\\rho_{max}}{\\rho_{crit}})} \\log(\\frac{\\rho_{max}}{\\rho})\\\\ \n",
    "\\frac{dJ}{d \\rho} = \\frac{v_{max}} {\\log(\\frac{\\rho_{max}}{\\rho_{crit}})} \\log(\\frac{\\rho_{max}}{\\rho}) - \\frac{\\rho v_{max}} {\\log(\\frac{\\rho_{max}}{\\rho_{crit}})} \\frac{1}{\\rho} = 0 \\\\\n",
    "= \\log(\\frac{\\rho_{max}}{\\rho}) - 1 \\\\\n",
    "= \\log(\\rho_{max}) - \\log(\\rho) - 1 = 0 \\\\\n",
    "\\log(\\rho) = \\log(\\rho_{max}) - 1 \\\\\n",
    "\\rho = e^{\\log(\\rho_{max}) - 1} \\\\\n",
    "\\rho = \\rho_{max} e ^{-1} \\\\\n",
    "\\rho^* = \\frac{\\rho_{max}}{e}\n",
    "$"
   ]
  },
  {
   "cell_type": "markdown",
   "metadata": {},
   "source": [
    "$\\frac{d^2J}{d\\rho^2} = -\\frac{v_{max}}{\\rho \\log(\\frac{p_{max}}{p_{crit}})}\\\\\n",
    "\\frac{d^2J}{d\\rho^2}(\\rho ^*) = -\\frac{e v_{max}}{\\rho_{max} \\log(\\frac{p_{max}}{p_{crit}})} < 0\n",
    "$\n",
    "This must be less than 0 since $\\rho_{max}$ and $v_{max}$ must be greater than 0"
   ]
  },
  {
   "cell_type": "code",
   "execution_count": 1,
   "metadata": {
    "collapsed": true
   },
   "outputs": [],
   "source": [
    "import numpy as np\n",
    "import matplotlib.pyplot as plt\n",
    "import scipy.optimize as sc"
   ]
  },
  {
   "cell_type": "code",
   "execution_count": 2,
   "metadata": {
    "collapsed": true
   },
   "outputs": [],
   "source": [
    "pmax = 2.5\n",
    "pcrit = 0.5\n",
    "vmax = 1.2"
   ]
  },
  {
   "cell_type": "code",
   "execution_count": 3,
   "metadata": {
    "collapsed": true
   },
   "outputs": [],
   "source": [
    "def velocity(p):\n",
    "    if p > pcrit:\n",
    "        return vmax/np.log(pmax/pcrit) * np.log(pmax/p)\n",
    "    else:\n",
    "        return vmax\n",
    "def flux(p):\n",
    "    return velocity(p) * p"
   ]
  },
  {
   "cell_type": "code",
   "execution_count": 4,
   "metadata": {
    "collapsed": true
   },
   "outputs": [],
   "source": [
    "vals = np.arange(0,pmax,0.1)\n",
    "results = np.zeros((2, vals.size))\n",
    "\n",
    "for (idx, val) in enumerate(vals):\n",
    "    results[0][idx] = velocity(val)\n",
    "    results[1][idx] = flux(val)"
   ]
  },
  {
   "cell_type": "code",
   "execution_count": 5,
   "metadata": {
    "scrolled": true
   },
   "outputs": [
    {
     "data": {
      "image/png": "[encoded data removed]",
      "text/plain": [
       "<matplotlib.figure.Figure at 0x10707acf8>"
      ]
     },
     "metadata": {},
     "output_type": "display_data"
    }
   ],
   "source": [
    "plt.figure()\n",
    "plt.title(\"Flux vs. Velocity\")\n",
    "plt.xlabel('v(p)')\n",
    "plt.ylabel('J(p)')\n",
    "plt.plot(results[0], results[1], '-')\n",
    "plt.show()"
   ]
  },
  {
   "cell_type": "code",
   "execution_count": 6,
   "metadata": {},
   "outputs": [
    {
     "name": "stdout",
     "output_type": "stream",
     "text": [
      "Optimization terminated successfully.\n",
      "         Current function value: -0.685729\n",
      "         Iterations: 25\n",
      "         Function evaluations: 50\n",
      "1.08732585797\n"
     ]
    }
   ],
   "source": [
    "opt_p = sc.fmin(lambda x: -flux(x), 0)[0] # This is equal to p_max/e\n",
    "print(1/opt_p) # Distance between cars (explained below)"
   ]
  },
  {
   "cell_type": "markdown",
   "metadata": {
    "collapsed": true
   },
   "source": [
    "## Analysis"
   ]
  },
  {
   "cell_type": "markdown",
   "metadata": {},
   "source": [
    "The above graph indicates that flux increases as velocity increases up until a specific density/velocity, at which point it slowly decreases, likely due to the decreasing number of cars. Once $\\rho < \\rho_{crit}$, the flux starts to dramatically drop since the cars cannot go any faster than the speed limit while the overall number of cars passing through decreases. For $\\rho^* > \\rho_{crit}$, the maximum flux occurs when the density is about $0.92$, after which point it starts to decrease. For $\\rho^* < \\rho_{crit}$, the maximum flux is exactly when $\\rho^* = \\rho_{crit}$ since the cars have already reached their maximum speed and decreasing the density any further would just result in a decrease in the number of cars moving at $v_{max}$. "
   ]
  },
  {
   "cell_type": "markdown",
   "metadata": {},
   "source": [
    "To determine the distance between cars, we know that $\\frac{p_{max}}{e} = \\frac{1}{d+l}$ where $d$ is the distance between cars and $l$ is the length of each car. Solving for $d+l$, we have $\\frac{e}{p_{max}}$, which is equivalent to about 1.09 meters. Given that this is not that much distance, especially when taking the car's length into account, drivers would likely want to go much slower than the speed limit to avoid collisions due to sudden braking."
   ]
  }
 ],
 "metadata": {
  "kernelspec": {
   "display_name": "Python 3",
   "language": "python",
   "name": "python3"
  },
  "language_info": {
   "codemirror_mode": {
    "name": "ipython",
    "version": 3
   },
   "file_extension": ".py",
   "mimetype": "text/x-python",
   "name": "python",
   "nbconvert_exporter": "python",
   "pygments_lexer": "ipython3",
   "version": "3.6.3"
  }
 },
 "nbformat": 4,
 "nbformat_minor": 2
}
